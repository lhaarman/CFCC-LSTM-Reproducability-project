{
  "cells": [
    {
      "cell_type": "code",
      "execution_count": null,
      "metadata": {
        "colab": {
          "base_uri": "https://localhost:8080/"
        },
        "id": "PNanqCXXSr6S",
        "outputId": "141d509f-a157-4c30-e9fe-fac96bf93e61"
      },
      "outputs": [],
      "source": [
        "%pip install basemap\n",
        "%pip install basemap-data-hires\n",
        "%pip3 install torch\n",
        "%pip3 install pqdm"
      ]
    },
    {
      "cell_type": "code",
      "execution_count": 13,
      "metadata": {
        "colab": {
          "base_uri": "https://localhost:8080/",
          "height": 301
        },
        "id": "Hx99ljhxXaBx",
        "outputId": "b23f0730-5f6b-4230-c639-af6878cef45f"
      },
      "outputs": [
        {
          "name": "stderr",
          "output_type": "stream",
          "text": [
            "<ipython-input-13-ced139e599ab>:18: MatplotlibDeprecationWarning: shading='flat' when X and Y have the same dimensions as C is deprecated since 3.3.  Either specify the corners of the quadrilaterals with X and Y, or pass shading='auto', 'nearest' or 'gouraud', or set rcParams['pcolor.shading'].  This will become an error two minor releases later.\n",
            "  plt.pcolor(X, Y, sst[0], vmin=0.01, vmax=30)\n"
          ]
        },
        {
          "data": {
            "image/png": "[encoded data removed]",
            "text/plain": [
              "<Figure size 432x288 with 2 Axes>"
            ]
          },
          "metadata": {
            "needs_background": "light"
          },
          "output_type": "display_data"
        },
        {
          "name": "stdout",
          "output_type": "stream",
          "text": [
            "(14732, 20, 20)\n"
          ]
        }
      ],
      "source": [
        "# Data preparation\n",
        "import torch\n",
        "import torch.nn as nn\n",
        "import netCDF4 as nc\n",
        "import matplotlib.pyplot as plt\n",
        "import numpy as np\n",
        "import sys\n",
        "\n",
        "# Get training data\n",
        "ds = nc.Dataset(\"./data/sst.bohai.day.mean.1981-2021.nc\")\n",
        "\n",
        "latitudes = ds.variables['lat']\n",
        "longitudes = ds.variables['lon']\n",
        "sst = np.clip(np.array(ds.variables['sst']), a_min=0.01, a_max=None)\n",
        "X, Y = np.meshgrid(longitudes[:], latitudes[:])\n",
        "\n",
        "plt.figure()\n",
        "plt.pcolor(X, Y, sst[0], vmin=0.01, vmax=30)\n",
        "plt.colorbar()\n",
        "plt.show()\n",
        "\n",
        "print(sst.shape)"
      ]
    },
    {
      "cell_type": "code",
      "execution_count": 14,
      "metadata": {
        "colab": {
          "base_uri": "https://localhost:8080/"
        },
        "id": "t1hipZSaw0BY",
        "outputId": "90ab5592-dc84-4289-db95-34f012ad4d34"
      },
      "outputs": [
        {
          "name": "stdout",
          "output_type": "stream",
          "text": [
            "cuda:0\n"
          ]
        }
      ],
      "source": [
        "# Use GPU if available\n",
        "device = torch.device('cuda:0' if torch.cuda.is_available() else 'cpu')\n",
        "print(device)"
      ]
    },
    {
      "cell_type": "code",
      "execution_count": 4,
      "metadata": {
        "colab": {
          "base_uri": "https://localhost:8080/"
        },
        "id": "uk7tqLcYyiND",
        "outputId": "ca7d1bfd-27b2-4727-c6be-b6494fc74359"
      },
      "outputs": [],
      "source": [
        "class FCLSTM(nn.Module):\n",
        "  def __init__(self, input_size=25, hidden_size=25, history_length=4, prediction_length=1, device='cpu'): \n",
        "    super(FCLSTM, self).__init__()\n",
        "    \n",
        "    self.input_size = input_size\n",
        "    self.hidden_size = hidden_size\n",
        "    \n",
        "    self.history_length = history_length\n",
        "    self.prediction_length = prediction_length\n",
        "\n",
        "    self.device = device\n",
        "\n",
        "    self.lstm_layer = nn.LSTM(input_size, hidden_size, num_layers=1, batch_first=True)\n",
        "    self.fc_layer = nn.Linear(history_length * hidden_size, prediction_length * hidden_size)\n",
        "    self.relu = nn.ReLU()\n",
        "\n",
        "  # takes in a grid of N x history_length x 25 and returns a grid of N x prediction_length x 5 x 5 \n",
        "  def forward(self, input, reshape=True):\n",
        "      num_samples = input.shape[0]\n",
        "      h_t = torch.zeros(1, num_samples, self.hidden_size).to(self.device)\n",
        "      c_t = torch.zeros(1, num_samples, self.hidden_size).to(self.device)\n",
        "\n",
        "      output, (h_t, c_t) = self.lstm_layer(input, (h_t, c_t)) # output: N x history_length x 25\n",
        "      output = torch.flatten(output, start_dim=1) # = N x history_length * 25\n",
        "      output = self.fc_layer(output) # = N x prediction_length * 25\n",
        "      if reshape:\n",
        "        output = torch.reshape(output, (num_samples, self.prediction_length, int(np.sqrt(self.hidden_size)), int(np.sqrt(self.hidden_size)))) # N x prediction_length x 5 x 5\n",
        "\n",
        "      output = self.relu(output)\n",
        "      return output"
      ]
    },
    {
      "cell_type": "code",
      "execution_count": 5,
      "metadata": {
        "colab": {
          "base_uri": "https://localhost:8080/"
        },
        "id": "B-tPZLorO_F6",
        "outputId": "246f60b4-6024-4e55-f815-d37be8f1dc68"
      },
      "outputs": [],
      "source": [
        "class CFCCLSTM(FCLSTM):\n",
        "  def __init__(self, input_size=25, hidden_size=25, history_length=4, prediction_length=1, device=\"cpu\", mode=\"weighted\"): \n",
        "    super(CFCCLSTM, self).__init__(input_size, hidden_size, history_length, prediction_length, device)\n",
        "\n",
        "    self.conv_layer = nn.Conv1d(prediction_length,prediction_length, kernel_size=hidden_size, stride=1, padding=0)\n",
        "    if mode == \"average\":\n",
        "      self.conv_layer = nn.Conv1d(prediction_length,prediction_length, kernel_size=hidden_size, stride=1, padding=0)\n",
        "      with torch.no_grad():\n",
        "        self.conv_layer.weight.data = torch.mul(torch.ones(1, 1, hidden_size), 1.0 / hidden_size)\n",
        "        self.conv_layer.weight.requires_grad = False\n",
        "\n",
        "  # takes in a grid of N x history_length x 25 and returns a grid of N x prediction_length x 5 x 5 \n",
        "  def forward(self, input):\n",
        "      output = super().forward(input, False) # N x prediction_length x 5 x 5\n",
        "\n",
        "      # put data in 1 channel\n",
        "      output = torch.unsqueeze(output, dim=1) # N x 1 x 25\n",
        "      output = self.conv_layer(output) # N x 1 x 1\n",
        "      output = torch.flatten(output, start_dim=1)\n",
        "\n",
        "      return output"
      ]
    },
    {
      "cell_type": "code",
      "execution_count": 6,
      "metadata": {},
      "outputs": [],
      "source": [
        "class FCLSTM_SSTPredictor:\n",
        "    def __init__(self, sst, model, history_length, prediction_length, batch_size, device=\"cpu\", epochs = 50):\n",
        "        self.sst = sst\n",
        "        self.sequence_length = self.sst.shape[0]\n",
        "        self.history_length = history_length\n",
        "        self.prediction_length = prediction_length\n",
        "        self.batch_size = batch_size\n",
        "        self.device = device\n",
        "        self.epochs = epochs\n",
        "\n",
        "        self.model = model.to(self.device)\n",
        "\n",
        "    def transform_data(self, data):\n",
        "        x = []\n",
        "        y = []\n",
        "\n",
        "        data_length = data.shape[0]\n",
        "\n",
        "        for t in range(data_length - self.history_length - self.prediction_length):\n",
        "            for lat in range(16):\n",
        "                for lon in range(16):\n",
        "                    x.append(\n",
        "                        self.sst[t:t + self.history_length, lat:lat+5, lon:lon+5]\n",
        "                    )\n",
        "                    y.append(\n",
        "                        self.sst[t + self.history_length:t + self.history_length + self.prediction_length, lat:lat+5, lon:lon+5]\n",
        "                    )\n",
        "        \n",
        "        x_tensor = torch.Tensor(np.asarray(x)).flatten(start_dim=2)\n",
        "        y_tensor = torch.Tensor(np.asarray(y))\n",
        "\n",
        "        return x_tensor, y_tensor\n",
        "\n",
        "    def train_test(self, split=4/5):\n",
        "        return self.sst[:int(len(self.sst) * split), :, :], self.sst[int(len(self.sst) * split):, :, :]\n",
        "\n",
        "    def make_batches(self, x, y):\n",
        "        return list(zip(x.split(self.batch_size), y.split(self.batch_size)))\n",
        "\n",
        "    def criterion(self, output, target):\n",
        "        return torch.sqrt(nn.MSELoss()(output, target))\n",
        "    \n",
        "    def accuracy(self, output, target):\n",
        "        return 1 - torch.mean(torch.divide(torch.subtract(output, target)), target)\n",
        "\n",
        "    def train(self, batches):\n",
        "        print(\"Running training...\")\n",
        "        optimizer = torch.optim.Adam(self.model.parameters(), lr=0.0001)\n",
        "\n",
        "        losses = []\n",
        "        accuracies = []\n",
        "\n",
        "        \n",
        "        for i in range(self.epochs):\n",
        "  \n",
        "            if len(losses) > 0:\n",
        "                sys.stdout.write('\\r'+ \"Current iteration: \" + str(i) + \", previous loss: \" + str(losses[len(losses) - 1]) + \", previous accuracy: \" + str(accuracies[len(accuracies) - 1]) + \"\\n\")\n",
        "                sys.stdout.flush()\n",
        "\n",
        "            sumLosses = []\n",
        "            sumAccuracies = []\n",
        "\n",
        "            for batch in batches:\n",
        "                # Randomly initialize hidden\n",
        "                train_input = batch[0].to(self.device)\n",
        "                train_target = batch[1].to(self.device)\n",
        "\n",
        "                optimizer.zero_grad()\n",
        "                output = self.model(train_input) # batch_size x prediction_length x 5 x 5\n",
        "\n",
        "                loss = self.criterion(output, train_target)\n",
        "                accuracy = self.accuracy(output, train_target)\n",
        "\n",
        "                sumLosses.append(loss.item())\n",
        "                sumAccuracies.append(accuracy.item())\n",
        "\n",
        "                loss.backward()\n",
        "                optimizer.step() \n",
        "\n",
        "            losses.append(np.mean(sumLosses))\n",
        "            accuracies.append(np.nanmean(sumAccuracies))\n",
        "        \n",
        "        return losses, accuracies\n",
        "\n",
        "    def test(self, batches):\n",
        "        print(\"Running test...\")\n",
        "\n",
        "        sumLosses = []\n",
        "        sumAccuracies = []\n",
        "\n",
        "        with torch.no_grad():\n",
        "            for batch in batches:\n",
        "                test_input = batch[0].to(self.device)\n",
        "                test_target = batch[1].to(self.device)\n",
        "                output = self.model(test_input) # batch_size x prediction_length x 5 x 5\n",
        "\n",
        "                loss = self.criterion(output, test_target)\n",
        "                accuracy = self.accuracy(output, test_target)\n",
        "\n",
        "                sumLosses.append(loss.item())\n",
        "                sumAccuracies.append(accuracy.item())\n",
        "\n",
        "        return sumLosses, sumAccuracies\n",
        "    \n",
        "    def train_plot(self, losses, accuracies):        \n",
        "        plt.title(\"Loss (RMSE)\")\n",
        "        plt.plot(list(range(0, self.epochs)), losses)\n",
        "        plt.figure()\n",
        "        plt.title(\"Accuracy\")\n",
        "        plt.plot(list(range(0, self.epochs)), accuracies)\n",
        "\n",
        "    def test_plot(self, losses, accuracies):\n",
        "        print(\"RMSE for validation:\", np.mean(losses))\n",
        "        print(\"Accuracy for validation:\", np.mean(accuracies))\n",
        "\n"
      ]
    },
    {
      "cell_type": "code",
      "execution_count": 15,
      "metadata": {},
      "outputs": [
        {
          "name": "stdout",
          "output_type": "stream",
          "text": [
            "Running training...\n",
            "Current iteration: 1, previous loss: 5.632003721493614, previous accuracy: -74.0746600092773\n",
            "Current iteration: 2, previous loss: 3.6811613662993765, previous accuracy: -80.1268179257171\n",
            "Current iteration: 3, previous loss: 2.9706554166276913, previous accuracy: -62.93273009345163\n",
            "Current iteration: 4, previous loss: 2.542147299323503, previous accuracy: -48.73107506376778\n",
            "Current iteration: 5, previous loss: 2.2543801206684275, previous accuracy: -39.49184768021815\n",
            "Current iteration: 6, previous loss: 2.042212977878914, previous accuracy: -32.73813655105228\n",
            "Current iteration: 7, previous loss: 1.875360563518843, previous accuracy: -27.55837604590709\n",
            "Current iteration: 8, previous loss: 1.7372586889360069, previous accuracy: -23.580782830006804\n",
            "Current iteration: 9, previous loss: 1.6247848084149012, previous accuracy: -20.56559784084508\n",
            "Current iteration: 10, previous loss: 1.5320271677598483, previous accuracy: -18.21292127741213\n",
            "Current iteration: 11, previous loss: 1.4519804340368216, previous accuracy: -16.252909737531926\n",
            "Current iteration: 12, previous loss: 1.3821992433992023, previous accuracy: -14.588166223802874\n",
            "Current iteration: 13, previous loss: 1.3198825113184383, previous accuracy: -13.162752055878954\n",
            "Current iteration: 14, previous loss: 1.2642078362822735, previous accuracy: -11.986952354912038\n",
            "Current iteration: 15, previous loss: 1.2154746307328925, previous accuracy: -10.923480363167405\n",
            "Current iteration: 16, previous loss: 1.1717943175994683, previous accuracy: -9.973911973656945\n",
            "Current iteration: 17, previous loss: 1.1309342912127895, previous accuracy: -9.15459653230191\n",
            "Current iteration: 18, previous loss: 1.095000593134017, previous accuracy: -8.416457319421557\n",
            "Current iteration: 19, previous loss: 1.0636042789459634, previous accuracy: -7.7843639532050375\n",
            "Current iteration: 20, previous loss: 1.0325835440832811, previous accuracy: -7.2750103593884585\n",
            "Current iteration: 21, previous loss: 1.005033268841499, previous accuracy: -6.8170380359594605\n",
            "Current iteration: 22, previous loss: 0.9795449318576143, previous accuracy: -6.312190396676444\n",
            "Current iteration: 23, previous loss: 0.9608367879898723, previous accuracy: -5.94223149195187\n",
            "Current iteration: 24, previous loss: 0.9370529125269078, previous accuracy: -5.610885204240705\n",
            "Current iteration: 25, previous loss: 0.9156227116775026, previous accuracy: -5.284399765942417\n",
            "Current iteration: 26, previous loss: 0.9003307708354069, previous accuracy: -4.931677658084293\n",
            "Current iteration: 27, previous loss: 0.879792570819879, previous accuracy: -4.658310587580216\n",
            "Current iteration: 28, previous loss: 0.8624743704733095, previous accuracy: -4.435021736666383\n",
            "Current iteration: 29, previous loss: 0.8494140306282124, previous accuracy: -4.217024896302733\n",
            "Current iteration: 30, previous loss: 0.8371337118041535, previous accuracy: -4.03833860387624\n",
            "Current iteration: 31, previous loss: 0.8219242788585621, previous accuracy: -3.842666362096984\n",
            "Current iteration: 32, previous loss: 0.8099928502417177, previous accuracy: -3.674153804252832\n",
            "Current iteration: 33, previous loss: 0.7936488109907999, previous accuracy: -3.4103587634697026\n",
            "Current iteration: 34, previous loss: 0.7839481671313884, previous accuracy: -3.2577339723680945\n",
            "Current iteration: 35, previous loss: 0.7708298334190923, previous accuracy: -3.153154923474647\n",
            "Current iteration: 36, previous loss: 0.759807330850632, previous accuracy: -3.042974389145856\n",
            "Current iteration: 37, previous loss: 0.7512811014071386, previous accuracy: -2.956506290217207\n",
            "Current iteration: 38, previous loss: 0.7435204099870092, previous accuracy: -2.8572648786324595\n",
            "Current iteration: 39, previous loss: 0.7370361680237668, previous accuracy: -2.7495364705654075\n",
            "Current iteration: 40, previous loss: 0.731063166215181, previous accuracy: -2.675977564586646\n",
            "Current iteration: 41, previous loss: 0.7245916199704382, previous accuracy: -2.5739343536729926\n",
            "Current iteration: 42, previous loss: 0.7140857964905899, previous accuracy: -2.399735902808923\n",
            "Current iteration: 43, previous loss: 0.7051328673275703, previous accuracy: -2.2891584367622544\n",
            "Current iteration: 44, previous loss: 0.6980310074036311, previous accuracy: -2.2135528428445244\n",
            "Current iteration: 45, previous loss: 0.6908711419597344, previous accuracy: -2.1258672872504474\n",
            "Current iteration: 46, previous loss: 0.6826856922465796, previous accuracy: -2.0397133164778225\n",
            "Current iteration: 47, previous loss: 0.674660979831158, previous accuracy: -1.9532518777458696\n",
            "Current iteration: 48, previous loss: 0.6679441989277741, previous accuracy: -1.8799768281913978\n",
            "Current iteration: 49, previous loss: 0.6620519630927182, previous accuracy: -1.8131319474283423\n",
            "Running test...\n",
            "RMSE for validation: 0.7000758069486398\n",
            "Accuracy for validation: -1.4627489353651586\n"
          ]
        },
        {
          "data": {
            "image/png": "[encoded data removed]",
            "text/plain": [
              "<Figure size 432x288 with 1 Axes>"
            ]
          },
          "metadata": {
            "needs_background": "light"
          },
          "output_type": "display_data"
        },
        {
          "data": {
            "image/png": "[encoded data removed]",
            "text/plain": [
              "<Figure size 432x288 with 1 Axes>"
            ]
          },
          "metadata": {
            "needs_background": "light"
          },
          "output_type": "display_data"
        }
      ],
      "source": [
        "model = FCLSTM(25, 25, 4, 1, device=device)\n",
        "\n",
        "sst_predictor = FCLSTM_SSTPredictor(sst, model, 4, 1, 1024, epochs=50, device=device)\n",
        "train_data, test_data = sst_predictor.train_test()\n",
        "\n",
        "x_train, y_train = sst_predictor.transform_data(train_data)\n",
        "train_batches = sst_predictor.make_batches(x_train, y_train)\n",
        "\n",
        "x_test, y_test = sst_predictor.transform_data(test_data)\n",
        "test_batches = sst_predictor.make_batches(x_test, y_test)\n",
        "\n",
        "train_loss, train_accuracy = sst_predictor.train(train_batches)\n",
        "sst_predictor.train_plot(train_loss, train_accuracy)\n",
        "\n",
        "test_loss, test_accuracy = sst_predictor.test(test_batches)\n",
        "sst_predictor.test_plot(test_loss, test_accuracy)"
      ]
    },
    {
      "cell_type": "code",
      "execution_count": 11,
      "metadata": {},
      "outputs": [],
      "source": [
        "class CFCCLSTM_SSTPredictor(FCLSTM_SSTPredictor):   \n",
        "\n",
        "    def transform_data(self, data):\n",
        "        x = []\n",
        "        y = []\n",
        "\n",
        "        data_length = data.shape[0]\n",
        "\n",
        "        for t in range(data_length - self.history_length - self.prediction_length):\n",
        "            for lat in range(16):\n",
        "                for lon in range(16):\n",
        "                    x.append(\n",
        "                        self.sst[t:t + self.history_length, lat:lat+5, lon:lon+5]\n",
        "                    )\n",
        "                    y.append(\n",
        "                        self.sst[t + self.history_length:t + self.history_length + self.prediction_length, lat, lon]\n",
        "                    )\n",
        "        \n",
        "        x_tensor = torch.Tensor(np.asarray(x)).flatten(start_dim=2)\n",
        "        y_tensor = torch.Tensor(np.asarray(y))\n",
        "\n",
        "        return x_tensor, y_tensor"
      ]
    },
    {
      "cell_type": "code",
      "execution_count": 9,
      "metadata": {},
      "outputs": [
        {
          "name": "stderr",
          "output_type": "stream",
          "text": [
            "<ipython-input-8-c282197a9b55>:19: UserWarning: Creating a tensor from a list of numpy.ndarrays is extremely slow. Please consider converting the list to a single numpy.ndarray with numpy.array() before converting to a tensor. (Triggered internally at  ..\\torch\\csrc\\utils\\tensor_new.cpp:201.)\n",
            "  x_tensor = torch.Tensor(x).flatten(start_dim=2)\n"
          ]
        },
        {
          "name": "stdout",
          "output_type": "stream",
          "text": [
            "Running training...\n",
            "Current iteration: 1, previous loss: 7.712312317117542, previous accuracy: -24.44488104022279\n",
            "Current iteration: 2, previous loss: 5.270625566138702, previous accuracy: -37.25045245520923\n",
            "Current iteration: 3, previous loss: 3.822917561547286, previous accuracy: -27.598155809908498\n",
            "Current iteration: 4, previous loss: 2.9272194612188405, previous accuracy: -22.25800395336281\n",
            "Current iteration: 5, previous loss: 2.462779796751989, previous accuracy: -17.94499626775988\n",
            "Current iteration: 6, previous loss: 2.1819735892167706, previous accuracy: -15.35796903185293\n",
            "Current iteration: 7, previous loss: 1.980991668999195, previous accuracy: -13.250761639504205\n",
            "Current iteration: 8, previous loss: 1.8301479003461851, previous accuracy: -11.513433306395601\n",
            "Current iteration: 9, previous loss: 1.7107336530271842, previous accuracy: -9.77035877818153\n",
            "Current iteration: 10, previous loss: 1.6216894843850007, previous accuracy: -8.404892410550799\n",
            "Current iteration: 11, previous loss: 1.5490933615131444, previous accuracy: -7.368310001431679\n",
            "Current iteration: 12, previous loss: 1.486483757390457, previous accuracy: -6.561636404926274\n",
            "Current iteration: 13, previous loss: 1.4347576806131674, previous accuracy: -5.937698721074733\n",
            "Current iteration: 14, previous loss: 1.385817675414134, previous accuracy: -5.405648757811306\n",
            "Current iteration: 15, previous loss: 1.3446160154987354, previous accuracy: -4.9154228726211855\n",
            "Current iteration: 16, previous loss: 1.3054582672257002, previous accuracy: -4.499327331173177\n",
            "Current iteration: 17, previous loss: 1.2733967794853003, previous accuracy: -4.09420616448331\n",
            "Current iteration: 18, previous loss: 1.2410889705833124, previous accuracy: -3.761417515423833\n",
            "Current iteration: 19, previous loss: 1.2127485620428105, previous accuracy: -3.4913124746205857\n",
            "Current iteration: 20, previous loss: 1.1859545547540495, previous accuracy: -3.2579940346633496\n",
            "Current iteration: 21, previous loss: 1.1632252083647818, previous accuracy: -3.0580099237208462\n",
            "Current iteration: 22, previous loss: 1.1392644204351368, previous accuracy: -2.8818654892395954\n",
            "Current iteration: 23, previous loss: 1.1185994057022794, previous accuracy: -2.713419109785638\n",
            "Current iteration: 24, previous loss: 1.0976379973953272, previous accuracy: -2.5650150046056632\n",
            "Current iteration: 25, previous loss: 1.0814865464661396, previous accuracy: -2.4387417192361793\n",
            "Current iteration: 26, previous loss: 1.0635695249146344, previous accuracy: -2.350879590122067\n",
            "Current iteration: 27, previous loss: 1.0495610971535956, previous accuracy: -2.260254458910754\n",
            "Current iteration: 28, previous loss: 1.0347040574870954, previous accuracy: -2.2025169693693822\n",
            "Current iteration: 29, previous loss: 1.022644740789115, previous accuracy: -2.1232093949707185\n",
            "Current iteration: 30, previous loss: 1.0088123906733228, previous accuracy: -2.0717695432455363\n",
            "Current iteration: 31, previous loss: 0.9978752579210567, previous accuracy: -2.0098054141414408\n",
            "Current iteration: 32, previous loss: 0.9858144496371146, previous accuracy: -1.9650776812008448\n",
            "Current iteration: 33, previous loss: 0.9751777653994204, previous accuracy: -1.9102358035489815\n",
            "Current iteration: 34, previous loss: 0.9646958883116845, previous accuracy: -1.8539843944465222\n",
            "Current iteration: 35, previous loss: 0.9554480767878545, previous accuracy: -1.783507994243077\n",
            "Current iteration: 36, previous loss: 0.9453263395294851, previous accuracy: -1.7231583035722071\n",
            "Current iteration: 37, previous loss: 0.9366270788774198, previous accuracy: -1.6582610696351447\n",
            "Current iteration: 38, previous loss: 0.9284877017343125, previous accuracy: -1.6010100626621118\n",
            "Current iteration: 39, previous loss: 0.9201677741647578, previous accuracy: -1.5398823728366775\n",
            "Current iteration: 40, previous loss: 0.9126530024064642, previous accuracy: -1.4908956406878777\n",
            "Current iteration: 41, previous loss: 0.9050252030597252, previous accuracy: -1.4384678504904922\n",
            "Current iteration: 42, previous loss: 0.8979450546863939, previous accuracy: -1.4001728572002075\n",
            "Current iteration: 43, previous loss: 0.8908776964257363, previous accuracy: -1.359782332465762\n",
            "Current iteration: 44, previous loss: 0.8842272575513846, previous accuracy: -1.3307860550426303\n",
            "Current iteration: 45, previous loss: 0.8777007067284617, previous accuracy: -1.3034709797424524\n",
            "Current iteration: 46, previous loss: 0.8713112190669897, previous accuracy: -1.2783051579176974\n",
            "Current iteration: 47, previous loss: 0.8651805957969354, previous accuracy: -1.2524719124748593\n",
            "Current iteration: 48, previous loss: 0.8591729577909522, previous accuracy: -1.2313943221455528\n",
            "Current iteration: 49, previous loss: 0.8533685742085483, previous accuracy: -1.211037389275168\n",
            "Running test...\n",
            "RMSE for validation: 0.8565285830465081\n",
            "Accuracy for validation: -2.3535137029543316\n"
          ]
        },
        {
          "data": {
            "image/png": "[encoded data removed]",
            "text/plain": [
              "<Figure size 432x288 with 1 Axes>"
            ]
          },
          "metadata": {
            "needs_background": "light"
          },
          "output_type": "display_data"
        },
        {
          "data": {
            "image/png": "[encoded data removed]",
            "text/plain": [
              "<Figure size 432x288 with 1 Axes>"
            ]
          },
          "metadata": {
            "needs_background": "light"
          },
          "output_type": "display_data"
        }
      ],
      "source": [
        "model = CFCCLSTM(25, 25, 4, 1, device=device)\n",
        "\n",
        "sst_predictor = CFCCLSTM_SSTPredictor(sst, model, 4, 1, 1024, epochs=50, device=device)\n",
        "train_data, test_data = sst_predictor.train_test()\n",
        "\n",
        "x_train, y_train = sst_predictor.transform_data(train_data)\n",
        "train_batches = sst_predictor.make_batches(x_train, y_train)\n",
        "\n",
        "x_test, y_test = sst_predictor.transform_data(test_data)\n",
        "test_batches = sst_predictor.make_batches(x_test, y_test)\n",
        "\n",
        "train_loss, train_accuracy = sst_predictor.train(train_batches)\n",
        "sst_predictor.train_plot(train_loss, train_accuracy)\n",
        "\n",
        "test_loss, test_accuracy = sst_predictor.test(test_batches)\n",
        "sst_predictor.test_plot(test_loss, test_accuracy)"
      ]
    },
    {
      "cell_type": "code",
      "execution_count": 10,
      "metadata": {},
      "outputs": [
        {
          "name": "stdout",
          "output_type": "stream",
          "text": [
            "Running training...\n",
            "Current iteration: 1, previous loss: 7.975011036915033, previous accuracy: -18.70532994205449\n",
            "Current iteration: 2, previous loss: 6.3416732342875735, previous accuracy: -31.02378362214484\n",
            "Current iteration: 3, previous loss: 5.3534079265026815, previous accuracy: -21.76505117675885\n",
            "Current iteration: 4, previous loss: 4.637049623391255, previous accuracy: -16.42849349651207\n",
            "Current iteration: 5, previous loss: 4.06538008710965, previous accuracy: -13.770742142281565\n",
            "Current iteration: 6, previous loss: 3.593031343148679, previous accuracy: -12.106198732544776\n",
            "Current iteration: 7, previous loss: 3.201744785012842, previous accuracy: -11.327236542085402\n",
            "Current iteration: 8, previous loss: 2.877015470748856, previous accuracy: -10.898623048042765\n",
            "Current iteration: 9, previous loss: 2.6060626270616947, previous accuracy: -10.637340740281708\n",
            "Current iteration: 10, previous loss: 2.3808515825036434, previous accuracy: -10.389578488408302\n",
            "Current iteration: 11, previous loss: 2.1925954753849783, previous accuracy: -10.189902218020691\n",
            "Current iteration: 12, previous loss: 2.0348827058360692, previous accuracy: -10.016964263656513\n",
            "Current iteration: 13, previous loss: 1.9013819798421698, previous accuracy: -9.876504807245164\n",
            "Current iteration: 14, previous loss: 1.7879752456432296, previous accuracy: -9.71195920957189\n",
            "Current iteration: 15, previous loss: 1.6935439532001813, previous accuracy: -9.514233199917541\n",
            "Current iteration: 16, previous loss: 1.6107523261892551, previous accuracy: -9.283223369494587\n",
            "Current iteration: 17, previous loss: 1.5420289916955694, previous accuracy: -9.0308535277438\n",
            "Current iteration: 18, previous loss: 1.4794447240578075, previous accuracy: -8.781258472779982\n",
            "Current iteration: 19, previous loss: 1.4269773311355487, previous accuracy: -8.529949733189174\n",
            "Current iteration: 20, previous loss: 1.3782675139555314, previous accuracy: -8.276124590919132\n",
            "Current iteration: 21, previous loss: 1.3359154118161622, previous accuracy: -8.008456512373321\n",
            "Current iteration: 22, previous loss: 1.2959075965950277, previous accuracy: -7.739851242830964\n",
            "Current iteration: 23, previous loss: 1.259804061480931, previous accuracy: -7.4616807723531915\n",
            "Current iteration: 24, previous loss: 1.225845284912051, previous accuracy: -7.184014667459086\n",
            "Current iteration: 25, previous loss: 1.1947238464541987, previous accuracy: -6.902711274672527\n",
            "Current iteration: 26, previous loss: 1.1654096949769526, previous accuracy: -6.6244474268283975\n",
            "Current iteration: 27, previous loss: 1.138078976093101, previous accuracy: -6.346384708573218\n",
            "Current iteration: 28, previous loss: 1.112233001814813, previous accuracy: -6.0726250710130545\n",
            "Current iteration: 29, previous loss: 1.0880429362054584, previous accuracy: -5.802027617992998\n",
            "Current iteration: 30, previous loss: 1.0652125240081833, previous accuracy: -5.536646808896746\n",
            "Current iteration: 31, previous loss: 1.043802520957123, previous accuracy: -5.276714787191274\n",
            "Current iteration: 32, previous loss: 1.0236645236509998, previous accuracy: -5.023979730346576\n",
            "Current iteration: 33, previous loss: 1.0047461482233742, previous accuracy: -4.779045701837864\n",
            "Current iteration: 34, previous loss: 0.9869775787806835, previous accuracy: -4.5518120129903155\n",
            "Current iteration: 35, previous loss: 0.969903441361424, previous accuracy: -4.3303277816902215\n",
            "Current iteration: 36, previous loss: 0.954073007414941, previous accuracy: -4.094874472845168\n",
            "Current iteration: 37, previous loss: 0.9388852988680204, previous accuracy: -3.874907360595911\n",
            "Current iteration: 38, previous loss: 0.9245612838235843, previous accuracy: -3.6673376300707967\n",
            "Current iteration: 39, previous loss: 0.9111700341308198, previous accuracy: -3.469519042644371\n",
            "Current iteration: 40, previous loss: 0.8987453186086246, previous accuracy: -3.2804057841398278\n",
            "Current iteration: 41, previous loss: 0.8872311376288634, previous accuracy: -3.099445922845075\n",
            "Current iteration: 42, previous loss: 0.8765058749082948, previous accuracy: -2.9260152699996014\n",
            "Current iteration: 43, previous loss: 0.8664479422934201, previous accuracy: -2.7594142892733724\n",
            "Current iteration: 44, previous loss: 0.857017781154639, previous accuracy: -2.5995633699456038\n",
            "Current iteration: 45, previous loss: 0.8481622641893471, previous accuracy: -2.4466635215850103\n",
            "Current iteration: 46, previous loss: 0.8398352470629069, previous accuracy: -2.3007933477155205\n",
            "Current iteration: 47, previous loss: 0.8319708504238907, previous accuracy: -2.161494536464717\n",
            "Current iteration: 48, previous loss: 0.8244845043538379, previous accuracy: -2.027993970987748\n",
            "Current iteration: 49, previous loss: 0.8173248083108947, previous accuracy: -1.8995921068451032\n",
            "Running test...\n",
            "RMSE for validation: 0.7179530516062698\n",
            "Accuracy for validation: -2.005959794945913\n"
          ]
        },
        {
          "data": {
            "image/png": "[encoded data removed]",
            "text/plain": [
              "<Figure size 432x288 with 1 Axes>"
            ]
          },
          "metadata": {
            "needs_background": "light"
          },
          "output_type": "display_data"
        },
        {
          "data": {
            "image/png": "[encoded data removed]",
            "text/plain": [
              "<Figure size 432x288 with 1 Axes>"
            ]
          },
          "metadata": {
            "needs_background": "light"
          },
          "output_type": "display_data"
        }
      ],
      "source": [
        "model = CFCCLSTM(25, 25, 4, 1, mode=\"average\", device=device)\n",
        "\n",
        "sst_predictor = CFCCLSTM_SSTPredictor(sst, model, 4, 1, 1024, epochs=50, device=device)\n",
        "train_data, test_data = sst_predictor.train_test()\n",
        "\n",
        "x_train, y_train = sst_predictor.transform_data(train_data)\n",
        "train_batches = sst_predictor.make_batches(x_train, y_train)\n",
        "\n",
        "x_test, y_test = sst_predictor.transform_data(test_data)\n",
        "test_batches = sst_predictor.make_batches(x_test, y_test)\n",
        "\n",
        "train_loss, train_accuracy = sst_predictor.train(train_batches)\n",
        "sst_predictor.train_plot(train_loss, train_accuracy)\n",
        "\n",
        "test_loss, test_accuracy = sst_predictor.test(test_batches)\n",
        "sst_predictor.test_plot(test_loss, test_accuracy)"
      ]
    },
    {
      "cell_type": "code",
      "execution_count": null,
      "metadata": {},
      "outputs": [],
      "source": [
        "import matplotlib\n",
        "\n",
        "# Plot a prediction for CFCC LSTM\n",
        "\n",
        "input =  sst[:20, :, :] # 20 x 20 x 20\n",
        "\n",
        "prediction_input = []\n",
        "for latitude in range(2, 18):\n",
        "    for longitude in range(2,18):\n",
        "      input_values = input[:, latitude - 2: latitude + 3, longitude - 2: longitude + 3] # history_length x 5 x 5 \n",
        "      prediction_input.append(input_values)\n",
        "\n",
        "print(np.asarray(prediction_input).shape)\n",
        "\n",
        "ground_truth = np.asarray(sst[20:27, 2:18, 2:18]) # 7 x 16 x 16\n",
        "\n",
        "tensor_input = torch.from_numpy(np.asarray(prediction_input)).to(device) # N x 20 1\n",
        "tensor_input = torch.flatten(tensor_input, start_dim=2) # N x 20 x 25\n",
        "print(\"input shape: \", tensor_input.shape)\n",
        "\n",
        "output = model(tensor_input) # N x 7 x 25\n",
        "output = output.transpose(0,1)\n",
        "print(\"output shape\", output.shape)\n",
        "output = torch.reshape(output, (7, 16,16))\n",
        "print(\"output shape\", output.shape)\n",
        "\n",
        "predicted_days = np.asarray(output.tolist())\n",
        "print(predicted_days.shape)\n",
        "\n",
        "fig, axes = plt.subplots(nrows=1, ncols=7, figsize=(28, 4))\n",
        "for i, day in enumerate(predicted_days):\n",
        "  im = axes[i].pcolor(day, vmin=0.01, vmax=30)\n",
        "\n",
        "fig.subplots_adjust(right=2)\n",
        "\n",
        "cb_ax = fig.add_axes([1.00, 0.1, 0.005, 0.85])\n",
        "cbar = fig.colorbar(im, cax=cb_ax)\n",
        "fig.tight_layout()\n",
        "plt.show()\n",
        "\n",
        "fig, axes = plt.subplots(nrows=1, ncols=7, figsize=(28, 4))\n",
        "for i, day in enumerate(ground_truth):\n",
        "  im = axes[i].pcolor(day, vmin=0.01, vmax=30)\n",
        "\n",
        "fig.subplots_adjust(right=2)\n",
        "\n",
        "cb_ax = fig.add_axes([1.00, 0.1, 0.005, 0.85])\n",
        "cbar = fig.colorbar(im, cax=cb_ax)\n",
        "fig.tight_layout()\n",
        "plt.show()\n",
        "\n",
        "\n",
        "differences = np.abs(np.subtract(ground_truth, predicted_days))\n",
        "\n",
        "fig, axes = plt.subplots(nrows=1, ncols=7, figsize=(28, 4))\n",
        "for i, day in enumerate(differences):\n",
        "  im = axes[i].pcolor(day, vmin=0, vmax=5, cmap=\"Greys\")\n",
        "\n",
        "fig.subplots_adjust(right=2)\n",
        "\n",
        "cb_ax = fig.add_axes([1.00, 0.1, 0.005, 0.85])\n",
        "cbar = fig.colorbar(im, cax=cb_ax)\n",
        "fig.tight_layout()\n",
        "plt.show()"
      ]
    }
  ],
  "metadata": {
    "accelerator": "GPU",
    "colab": {
      "collapsed_sections": [],
      "name": "ReproProject.ipynb",
      "provenance": []
    },
    "kernelspec": {
      "display_name": "Python 3",
      "name": "python3"
    },
    "language_info": {
      "codemirror_mode": {
        "name": "ipython",
        "version": 3
      },
      "file_extension": ".py",
      "mimetype": "text/x-python",
      "name": "python",
      "nbconvert_exporter": "python",
      "pygments_lexer": "ipython3",
      "version": "3.9.2"
    }
  },
  "nbformat": 4,
  "nbformat_minor": 0
}
